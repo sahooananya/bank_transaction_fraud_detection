{
 "cells": [
  {
   "cell_type": "code",
   "execution_count": 1,
   "id": "61a10e3e-75fa-4d3d-a65e-af42f5210986",
   "metadata": {},
   "outputs": [],
   "source": [
    "import pandas as pd"
   ]
  },
  {
   "cell_type": "code",
   "execution_count": 2,
   "id": "ed4e1531-4bdb-4550-819b-fb146b61ea7b",
   "metadata": {},
   "outputs": [],
   "source": [
    "import matplotlib.pyplot as plt"
   ]
  },
  {
   "cell_type": "code",
   "execution_count": 3,
   "id": "d6d382e2-d00f-4453-9f08-9c7e41a1ce59",
   "metadata": {},
   "outputs": [],
   "source": [
    "from functools import reduce"
   ]
  },
  {
   "cell_type": "code",
   "execution_count": 4,
   "id": "9e56374b-8cce-42b2-b7e1-4655f1915be9",
   "metadata": {},
   "outputs": [],
   "source": [
    "df = pd.read_csv('dataset.csv', encoding = 'unicode_escape')"
   ]
  },
  {
   "cell_type": "code",
   "execution_count": 5,
   "id": "029a773b-e266-4153-a17b-3cfac5f89dcd",
   "metadata": {},
   "outputs": [
    {
     "data": {
      "text/html": [
       "<div>\n",
       "<style scoped>\n",
       "    .dataframe tbody tr th:only-of-type {\n",
       "        vertical-align: middle;\n",
       "    }\n",
       "\n",
       "    .dataframe tbody tr th {\n",
       "        vertical-align: top;\n",
       "    }\n",
       "\n",
       "    .dataframe thead th {\n",
       "        text-align: right;\n",
       "    }\n",
       "</style>\n",
       "<table border=\"1\" class=\"dataframe\">\n",
       "  <thead>\n",
       "    <tr style=\"text-align: right;\">\n",
       "      <th></th>\n",
       "      <th>step</th>\n",
       "      <th>customer</th>\n",
       "      <th>age</th>\n",
       "      <th>gender</th>\n",
       "      <th>zipcodeOri</th>\n",
       "      <th>merchant</th>\n",
       "      <th>zipMerchant</th>\n",
       "      <th>category</th>\n",
       "      <th>amount</th>\n",
       "      <th>fraud</th>\n",
       "    </tr>\n",
       "  </thead>\n",
       "  <tbody>\n",
       "    <tr>\n",
       "      <th>0</th>\n",
       "      <td>0</td>\n",
       "      <td>'C1093826151'</td>\n",
       "      <td>'4'</td>\n",
       "      <td>'M'</td>\n",
       "      <td>'28007'</td>\n",
       "      <td>'M348934600'</td>\n",
       "      <td>'28007'</td>\n",
       "      <td>'es_transportation'</td>\n",
       "      <td>4.55</td>\n",
       "      <td>0</td>\n",
       "    </tr>\n",
       "    <tr>\n",
       "      <th>1</th>\n",
       "      <td>0</td>\n",
       "      <td>'C352968107'</td>\n",
       "      <td>'2'</td>\n",
       "      <td>'M'</td>\n",
       "      <td>'28007'</td>\n",
       "      <td>'M348934600'</td>\n",
       "      <td>'28007'</td>\n",
       "      <td>'es_transportation'</td>\n",
       "      <td>39.68</td>\n",
       "      <td>0</td>\n",
       "    </tr>\n",
       "    <tr>\n",
       "      <th>2</th>\n",
       "      <td>0</td>\n",
       "      <td>'C2054744914'</td>\n",
       "      <td>'4'</td>\n",
       "      <td>'F'</td>\n",
       "      <td>'28007'</td>\n",
       "      <td>'M1823072687'</td>\n",
       "      <td>'28007'</td>\n",
       "      <td>'es_transportation'</td>\n",
       "      <td>26.89</td>\n",
       "      <td>0</td>\n",
       "    </tr>\n",
       "    <tr>\n",
       "      <th>3</th>\n",
       "      <td>0</td>\n",
       "      <td>'C1760612790'</td>\n",
       "      <td>'3'</td>\n",
       "      <td>'M'</td>\n",
       "      <td>'28007'</td>\n",
       "      <td>'M348934600'</td>\n",
       "      <td>'28007'</td>\n",
       "      <td>'es_transportation'</td>\n",
       "      <td>17.25</td>\n",
       "      <td>0</td>\n",
       "    </tr>\n",
       "    <tr>\n",
       "      <th>4</th>\n",
       "      <td>0</td>\n",
       "      <td>'C757503768'</td>\n",
       "      <td>'5'</td>\n",
       "      <td>'M'</td>\n",
       "      <td>'28007'</td>\n",
       "      <td>'M348934600'</td>\n",
       "      <td>'28007'</td>\n",
       "      <td>'es_transportation'</td>\n",
       "      <td>35.72</td>\n",
       "      <td>0</td>\n",
       "    </tr>\n",
       "    <tr>\n",
       "      <th>...</th>\n",
       "      <td>...</td>\n",
       "      <td>...</td>\n",
       "      <td>...</td>\n",
       "      <td>...</td>\n",
       "      <td>...</td>\n",
       "      <td>...</td>\n",
       "      <td>...</td>\n",
       "      <td>...</td>\n",
       "      <td>...</td>\n",
       "      <td>...</td>\n",
       "    </tr>\n",
       "    <tr>\n",
       "      <th>594638</th>\n",
       "      <td>179</td>\n",
       "      <td>'C1753498738'</td>\n",
       "      <td>'3'</td>\n",
       "      <td>'F'</td>\n",
       "      <td>'28007'</td>\n",
       "      <td>'M1823072687'</td>\n",
       "      <td>'28007'</td>\n",
       "      <td>'es_transportation'</td>\n",
       "      <td>20.53</td>\n",
       "      <td>0</td>\n",
       "    </tr>\n",
       "    <tr>\n",
       "      <th>594639</th>\n",
       "      <td>179</td>\n",
       "      <td>'C650108285'</td>\n",
       "      <td>'4'</td>\n",
       "      <td>'F'</td>\n",
       "      <td>'28007'</td>\n",
       "      <td>'M1823072687'</td>\n",
       "      <td>'28007'</td>\n",
       "      <td>'es_transportation'</td>\n",
       "      <td>50.73</td>\n",
       "      <td>0</td>\n",
       "    </tr>\n",
       "    <tr>\n",
       "      <th>594640</th>\n",
       "      <td>179</td>\n",
       "      <td>'C123623130'</td>\n",
       "      <td>'2'</td>\n",
       "      <td>'F'</td>\n",
       "      <td>'28007'</td>\n",
       "      <td>'M349281107'</td>\n",
       "      <td>'28007'</td>\n",
       "      <td>'es_fashion'</td>\n",
       "      <td>22.44</td>\n",
       "      <td>0</td>\n",
       "    </tr>\n",
       "    <tr>\n",
       "      <th>594641</th>\n",
       "      <td>179</td>\n",
       "      <td>'C1499363341'</td>\n",
       "      <td>'5'</td>\n",
       "      <td>'M'</td>\n",
       "      <td>'28007'</td>\n",
       "      <td>'M1823072687'</td>\n",
       "      <td>'28007'</td>\n",
       "      <td>'es_transportation'</td>\n",
       "      <td>14.46</td>\n",
       "      <td>0</td>\n",
       "    </tr>\n",
       "    <tr>\n",
       "      <th>594642</th>\n",
       "      <td>179</td>\n",
       "      <td>'C616528518'</td>\n",
       "      <td>'4'</td>\n",
       "      <td>'F'</td>\n",
       "      <td>'28007'</td>\n",
       "      <td>'M1823072687'</td>\n",
       "      <td>'28007'</td>\n",
       "      <td>'es_transportation'</td>\n",
       "      <td>26.93</td>\n",
       "      <td>0</td>\n",
       "    </tr>\n",
       "  </tbody>\n",
       "</table>\n",
       "<p>594643 rows × 10 columns</p>\n",
       "</div>"
      ],
      "text/plain": [
       "        step       customer  age gender zipcodeOri       merchant zipMerchant  \\\n",
       "0          0  'C1093826151'  '4'    'M'    '28007'   'M348934600'     '28007'   \n",
       "1          0   'C352968107'  '2'    'M'    '28007'   'M348934600'     '28007'   \n",
       "2          0  'C2054744914'  '4'    'F'    '28007'  'M1823072687'     '28007'   \n",
       "3          0  'C1760612790'  '3'    'M'    '28007'   'M348934600'     '28007'   \n",
       "4          0   'C757503768'  '5'    'M'    '28007'   'M348934600'     '28007'   \n",
       "...      ...            ...  ...    ...        ...            ...         ...   \n",
       "594638   179  'C1753498738'  '3'    'F'    '28007'  'M1823072687'     '28007'   \n",
       "594639   179   'C650108285'  '4'    'F'    '28007'  'M1823072687'     '28007'   \n",
       "594640   179   'C123623130'  '2'    'F'    '28007'   'M349281107'     '28007'   \n",
       "594641   179  'C1499363341'  '5'    'M'    '28007'  'M1823072687'     '28007'   \n",
       "594642   179   'C616528518'  '4'    'F'    '28007'  'M1823072687'     '28007'   \n",
       "\n",
       "                   category  amount  fraud  \n",
       "0       'es_transportation'    4.55      0  \n",
       "1       'es_transportation'   39.68      0  \n",
       "2       'es_transportation'   26.89      0  \n",
       "3       'es_transportation'   17.25      0  \n",
       "4       'es_transportation'   35.72      0  \n",
       "...                     ...     ...    ...  \n",
       "594638  'es_transportation'   20.53      0  \n",
       "594639  'es_transportation'   50.73      0  \n",
       "594640         'es_fashion'   22.44      0  \n",
       "594641  'es_transportation'   14.46      0  \n",
       "594642  'es_transportation'   26.93      0  \n",
       "\n",
       "[594643 rows x 10 columns]"
      ]
     },
     "execution_count": 5,
     "metadata": {},
     "output_type": "execute_result"
    }
   ],
   "source": [
    "df"
   ]
  },
  {
   "cell_type": "code",
   "execution_count": 6,
   "id": "226ab225-75d6-42cf-a7a5-c3ee231c6fd0",
   "metadata": {},
   "outputs": [
    {
     "data": {
      "text/plain": [
       "step             int64\n",
       "customer        object\n",
       "age             object\n",
       "gender          object\n",
       "zipcodeOri      object\n",
       "merchant        object\n",
       "zipMerchant     object\n",
       "category        object\n",
       "amount         float64\n",
       "fraud            int64\n",
       "dtype: object"
      ]
     },
     "execution_count": 6,
     "metadata": {},
     "output_type": "execute_result"
    }
   ],
   "source": [
    "df.dtypes"
   ]
  },
  {
   "cell_type": "markdown",
   "id": "686d8b66",
   "metadata": {},
   "source": [
    "# Step: This feature represents the day from the start of simulation. It has 180 steps so simulation ran for virtually 6 months.\n",
    "Customer: This feature represents the customer id\n",
    "zipCodeOrigin: The zip code of origin/source.\n",
    "Merchant: The merchant's id\n",
    "zipMerchant: The merchant's zip code\n",
    "Age: Categorized age\n",
    "0: <= 18,\n",
    "1: 19-25,\n",
    "2: 26-35,\n",
    "3: 36-45,\n",
    "4: 46:55,\n",
    "5: 56:65,\n",
    "6: > 65\n",
    "U: Unknown\n",
    "Gender: Gender for customer\n",
    "E : Enterprise,\n",
    "F: Female,\n",
    "M: Male,\n",
    "U: Unknown\n",
    "Category: Category of the purchase. I won't write all categories here, we'll see them later in the analysis.\n",
    "Amount: Amount of the purchase\n",
    "Fraud: Target variable which shows if the transaction fraudulent(1) or benign(0)"
   ]
  },
  {
   "cell_type": "code",
   "execution_count": 7,
   "id": "fd9c20eb-2489-4dbe-8d37-6a1025a1e098",
   "metadata": {},
   "outputs": [
    {
     "data": {
      "text/plain": [
       "step           0\n",
       "customer       0\n",
       "age            0\n",
       "gender         0\n",
       "zipcodeOri     0\n",
       "merchant       0\n",
       "zipMerchant    0\n",
       "category       0\n",
       "amount         0\n",
       "fraud          0\n",
       "dtype: int64"
      ]
     },
     "execution_count": 7,
     "metadata": {},
     "output_type": "execute_result"
    }
   ],
   "source": [
    "df.isnull().sum()"
   ]
  },
  {
   "cell_type": "code",
   "execution_count": 8,
   "id": "9652ed9e-8bd2-4179-a7c3-c4f581580f7e",
   "metadata": {},
   "outputs": [
    {
     "name": "stdout",
     "output_type": "stream",
     "text": [
      "<class 'pandas.core.frame.DataFrame'>\n",
      "RangeIndex: 594643 entries, 0 to 594642\n",
      "Data columns (total 10 columns):\n",
      " #   Column       Non-Null Count   Dtype  \n",
      "---  ------       --------------   -----  \n",
      " 0   step         594643 non-null  int64  \n",
      " 1   customer     594643 non-null  object \n",
      " 2   age          594643 non-null  object \n",
      " 3   gender       594643 non-null  object \n",
      " 4   zipcodeOri   594643 non-null  object \n",
      " 5   merchant     594643 non-null  object \n",
      " 6   zipMerchant  594643 non-null  object \n",
      " 7   category     594643 non-null  object \n",
      " 8   amount       594643 non-null  float64\n",
      " 9   fraud        594643 non-null  int64  \n",
      "dtypes: float64(1), int64(2), object(7)\n",
      "memory usage: 45.4+ MB\n"
     ]
    }
   ],
   "source": [
    "df.info()"
   ]
  },
  {
   "cell_type": "code",
   "execution_count": 9,
   "id": "ed421b27-f4d3-436e-bb9f-f18d8101aaf2",
   "metadata": {},
   "outputs": [
    {
     "data": {
      "text/plain": [
       "array([0, 1], dtype=int64)"
      ]
     },
     "execution_count": 9,
     "metadata": {},
     "output_type": "execute_result"
    }
   ],
   "source": [
    "df['fraud'].unique()"
   ]
  },
  {
   "cell_type": "code",
   "execution_count": 10,
   "id": "8ab99733-9824-4715-9130-da57956686e6",
   "metadata": {},
   "outputs": [],
   "source": [
    "#pip install missingno"
   ]
  },
  {
   "cell_type": "code",
   "execution_count": 11,
   "id": "05689192",
   "metadata": {},
   "outputs": [
    {
     "name": "stdout",
     "output_type": "stream",
     "text": [
      "<class 'pandas.core.frame.DataFrame'>\n",
      "RangeIndex: 594643 entries, 0 to 594642\n",
      "Data columns (total 10 columns):\n",
      " #   Column       Non-Null Count   Dtype  \n",
      "---  ------       --------------   -----  \n",
      " 0   step         594643 non-null  int64  \n",
      " 1   customer     594643 non-null  object \n",
      " 2   age          594643 non-null  object \n",
      " 3   gender       594643 non-null  object \n",
      " 4   zipcodeOri   594643 non-null  object \n",
      " 5   merchant     594643 non-null  object \n",
      " 6   zipMerchant  594643 non-null  object \n",
      " 7   category     594643 non-null  object \n",
      " 8   amount       594643 non-null  float64\n",
      " 9   fraud        594643 non-null  int64  \n",
      "dtypes: float64(1), int64(2), object(7)\n",
      "memory usage: 45.4+ MB\n"
     ]
    }
   ],
   "source": [
    "df.info()"
   ]
  },
  {
   "cell_type": "code",
   "execution_count": 12,
   "id": "3db2f658",
   "metadata": {},
   "outputs": [],
   "source": [
    "import seaborn as sns\n",
    "import matplotlib.pyplot as plt"
   ]
  },
  {
   "cell_type": "code",
   "execution_count": 13,
   "id": "af91e932",
   "metadata": {},
   "outputs": [
    {
     "data": {
      "text/plain": [
       "<AxesSubplot:xlabel='fraud', ylabel='count'>"
      ]
     },
     "execution_count": 13,
     "metadata": {},
     "output_type": "execute_result"
    },
    {
     "data": {
      "image/png": "[encoded data removed]",
      "text/plain": [
       "<Figure size 432x288 with 1 Axes>"
      ]
     },
     "metadata": {
      "needs_background": "light"
     },
     "output_type": "display_data"
    }
   ],
   "source": [
    "sns.countplot(x=df['fraud'], data=df)"
   ]
  },
  {
   "cell_type": "code",
   "execution_count": 14,
   "id": "e7054d40",
   "metadata": {},
   "outputs": [
    {
     "name": "stderr",
     "output_type": "stream",
     "text": [
      "C:\\Users\\Admin\\anaconda3\\lib\\site-packages\\seaborn\\distributions.py:2619: FutureWarning: `distplot` is a deprecated function and will be removed in a future version. Please adapt your code to use either `displot` (a figure-level function with similar flexibility) or `histplot` (an axes-level function for histograms).\n",
      "  warnings.warn(msg, FutureWarning)\n"
     ]
    },
    {
     "data": {
      "text/plain": [
       "32.36583815088305"
      ]
     },
     "execution_count": 14,
     "metadata": {},
     "output_type": "execute_result"
    },
    {
     "data": {
      "image/png": "[encoded data removed]",
      "text/plain": [
       "<Figure size 432x288 with 1 Axes>"
      ]
     },
     "metadata": {
      "needs_background": "light"
     },
     "output_type": "display_data"
    }
   ],
   "source": [
    "sns.distplot(df['amount'])\n",
    "df['amount'].skew()"
   ]
  },
  {
   "cell_type": "code",
   "execution_count": 15,
   "id": "13dc0cd0",
   "metadata": {},
   "outputs": [
    {
     "name": "stdout",
     "output_type": "stream",
     "text": [
      "<class 'pandas.core.frame.DataFrame'>\n",
      "RangeIndex: 594643 entries, 0 to 594642\n",
      "Data columns (total 10 columns):\n",
      " #   Column       Non-Null Count   Dtype  \n",
      "---  ------       --------------   -----  \n",
      " 0   step         594643 non-null  int64  \n",
      " 1   customer     594643 non-null  object \n",
      " 2   age          594643 non-null  object \n",
      " 3   gender       594643 non-null  object \n",
      " 4   zipcodeOri   594643 non-null  object \n",
      " 5   merchant     594643 non-null  object \n",
      " 6   zipMerchant  594643 non-null  object \n",
      " 7   category     594643 non-null  object \n",
      " 8   amount       594643 non-null  float64\n",
      " 9   fraud        594643 non-null  int64  \n",
      "dtypes: float64(1), int64(2), object(7)\n",
      "memory usage: 45.4+ MB\n"
     ]
    }
   ],
   "source": [
    "df.info()"
   ]
  },
  {
   "cell_type": "code",
   "execution_count": 16,
   "id": "7acc4c85",
   "metadata": {},
   "outputs": [
    {
     "data": {
      "text/plain": [
       "array([\"'C1093826151'\", \"'C352968107'\", \"'C2054744914'\", ...,\n",
       "       \"'C1014783484'\", \"'C849065220'\", \"'C1809646275'\"], dtype=object)"
      ]
     },
     "execution_count": 16,
     "metadata": {},
     "output_type": "execute_result"
    }
   ],
   "source": [
    "df['customer'].unique()"
   ]
  },
  {
   "cell_type": "code",
   "execution_count": 17,
   "id": "2da4d4fb",
   "metadata": {},
   "outputs": [
    {
     "data": {
      "text/plain": [
       "array([\"'4'\", \"'2'\", \"'3'\", \"'5'\", \"'1'\", \"'6'\", \"'U'\", \"'0'\"],\n",
       "      dtype=object)"
      ]
     },
     "execution_count": 17,
     "metadata": {},
     "output_type": "execute_result"
    }
   ],
   "source": [
    "df['age'].unique()"
   ]
  },
  {
   "cell_type": "code",
   "execution_count": 18,
   "id": "92301017",
   "metadata": {},
   "outputs": [],
   "source": [
    "df.loc[df['age']==\"'0'\", 'age'] = 0\n",
    "df.loc[df['age']==\"'1'\", 'age'] = 1\n",
    "df.loc[df['age']==\"'2'\", 'age'] = 2\n",
    "df.loc[df['age']==\"'3'\", 'age'] = 3\n",
    "df.loc[df['age']==\"'4'\", 'age'] = 4\n",
    "df.loc[df['age']==\"'5'\", 'age'] = 5\n",
    "df.loc[df['age']==\"'6'\", 'age'] = 6\n",
    "df.loc[df['age']==\"'U'\", 'age'] = 7\n"
   ]
  },
  {
   "cell_type": "code",
   "execution_count": 19,
   "id": "28064247",
   "metadata": {},
   "outputs": [
    {
     "data": {
      "text/plain": [
       "array([4, 2, 3, 5, 1, 6, 7, 0], dtype=object)"
      ]
     },
     "execution_count": 19,
     "metadata": {},
     "output_type": "execute_result"
    }
   ],
   "source": [
    "df['age'].unique()"
   ]
  },
  {
   "cell_type": "code",
   "execution_count": 20,
   "id": "b7a2f8e6",
   "metadata": {},
   "outputs": [
    {
     "data": {
      "text/plain": [
       "array([\"'M'\", \"'F'\", \"'E'\", \"'U'\"], dtype=object)"
      ]
     },
     "execution_count": 20,
     "metadata": {},
     "output_type": "execute_result"
    }
   ],
   "source": [
    "df['gender'].unique()"
   ]
  },
  {
   "cell_type": "code",
   "execution_count": 21,
   "id": "f3e80fb9",
   "metadata": {},
   "outputs": [],
   "source": [
    "df.loc[df['gender']==\"'E'\", 'gender'] = 0\n",
    "df.loc[df['gender']==\"'F'\", 'gender'] = 1\n",
    "df.loc[df['gender']==\"'M'\", 'gender'] = 2\n",
    "df.loc[df['gender']==\"'U'\", 'gender'] = 3"
   ]
  },
  {
   "cell_type": "code",
   "execution_count": 22,
   "id": "1357f897",
   "metadata": {},
   "outputs": [
    {
     "data": {
      "text/plain": [
       "array([2, 1, 0, 3], dtype=object)"
      ]
     },
     "execution_count": 22,
     "metadata": {},
     "output_type": "execute_result"
    }
   ],
   "source": [
    "df['gender'].unique()"
   ]
  },
  {
   "cell_type": "code",
   "execution_count": 23,
   "id": "63409beb",
   "metadata": {},
   "outputs": [
    {
     "data": {
      "text/plain": [
       "array([  0,   1,   2,   3,   4,   5,   6,   7,   8,   9,  10,  11,  12,\n",
       "        13,  14,  15,  16,  17,  18,  19,  20,  21,  22,  23,  24,  25,\n",
       "        26,  27,  28,  29,  30,  31,  32,  33,  34,  35,  36,  37,  38,\n",
       "        39,  40,  41,  42,  43,  44,  45,  46,  47,  48,  49,  50,  51,\n",
       "        52,  53,  54,  55,  56,  57,  58,  59,  60,  61,  62,  63,  64,\n",
       "        65,  66,  67,  68,  69,  70,  71,  72,  73,  74,  75,  76,  77,\n",
       "        78,  79,  80,  81,  82,  83,  84,  85,  86,  87,  88,  89,  90,\n",
       "        91,  92,  93,  94,  95,  96,  97,  98,  99, 100, 101, 102, 103,\n",
       "       104, 105, 106, 107, 108, 109, 110, 111, 112, 113, 114, 115, 116,\n",
       "       117, 118, 119, 120, 121, 122, 123, 124, 125, 126, 127, 128, 129,\n",
       "       130, 131, 132, 133, 134, 135, 136, 137, 138, 139, 140, 141, 142,\n",
       "       143, 144, 145, 146, 147, 148, 149, 150, 151, 152, 153, 154, 155,\n",
       "       156, 157, 158, 159, 160, 161, 162, 163, 164, 165, 166, 167, 168,\n",
       "       169, 170, 171, 172, 173, 174, 175, 176, 177, 178, 179], dtype=int64)"
      ]
     },
     "execution_count": 23,
     "metadata": {},
     "output_type": "execute_result"
    }
   ],
   "source": [
    "df['step'].unique()"
   ]
  },
  {
   "cell_type": "code",
   "execution_count": 24,
   "id": "1a020ce6",
   "metadata": {},
   "outputs": [
    {
     "data": {
      "text/plain": [
       "array([\"'28007'\"], dtype=object)"
      ]
     },
     "execution_count": 24,
     "metadata": {},
     "output_type": "execute_result"
    }
   ],
   "source": [
    "df['zipcodeOri'].unique()"
   ]
  },
  {
   "cell_type": "markdown",
   "id": "b0188b34",
   "metadata": {},
   "source": [
    "28007 zipcode - Ansonville, North Carolina, United States"
   ]
  },
  {
   "cell_type": "code",
   "execution_count": 25,
   "id": "d4d495fb",
   "metadata": {},
   "outputs": [],
   "source": [
    "df.loc[df['zipcodeOri']==\"'28007'\", 'zipcodeOri'] = 0\n"
   ]
  },
  {
   "cell_type": "code",
   "execution_count": 26,
   "id": "b7461d03",
   "metadata": {},
   "outputs": [
    {
     "data": {
      "text/plain": [
       "array([\"'M348934600'\", \"'M1823072687'\", \"'M50039827'\", \"'M1888755466'\",\n",
       "       \"'M1053599405'\", \"'M85975013'\", \"'M480139044'\", \"'M692898500'\",\n",
       "       \"'M348875670'\", \"'M151143676'\", \"'M840466850'\", \"'M1741626453'\",\n",
       "       \"'M1535107174'\", \"'M855959430'\", \"'M349281107'\", \"'M209847108'\",\n",
       "       \"'M2122776122'\", \"'M1873032707'\", \"'M2011752106'\", \"'M857378720'\",\n",
       "       \"'M1198415165'\", \"'M1748431652'\", \"'M980657600'\", \"'M1352454843'\",\n",
       "       \"'M117188757'\", \"'M547558035'\", \"'M17379832'\", \"'M1649169323'\",\n",
       "       \"'M1946091778'\", \"'M97925176'\", \"'M923029380'\", \"'M1353266412'\",\n",
       "       \"'M1842530320'\", \"'M677738360'\", \"'M1313686961'\", \"'M732195782'\",\n",
       "       \"'M1600850729'\", \"'M1872033263'\", \"'M3697346'\", \"'M495352832'\",\n",
       "       \"'M1400236507'\", \"'M1294758098'\", \"'M1913465890'\", \"'M45060432'\",\n",
       "       \"'M78078399'\", \"'M2080407379'\", \"'M1788569036'\", \"'M1416436880'\",\n",
       "       \"'M933210764'\", \"'M1726401631'\"], dtype=object)"
      ]
     },
     "execution_count": 26,
     "metadata": {},
     "output_type": "execute_result"
    }
   ],
   "source": [
    "df['merchant'].unique()"
   ]
  },
  {
   "cell_type": "code",
   "execution_count": 27,
   "id": "a4a57ef3",
   "metadata": {},
   "outputs": [],
   "source": [
    "df.loc[df['merchant']==\"'M348934600'\", 'merchant'] = 0\n",
    "df.loc[df['merchant']==\"'M1823072687'\", 'merchant'] = 1\n",
    "df.loc[df['merchant']==\"'M50039827'\", 'merchant'] = 2\n",
    "df.loc[df['merchant']==\"'M1888755466'\", 'merchant'] = 3\n",
    "df.loc[df['merchant']==\"'M1053599405'\", 'merchant'] = 4\n",
    "df.loc[df['merchant']==\"'M85975013'\", 'merchant'] = 5\n",
    "df.loc[df['merchant']==\"'M480139044'\", 'merchant'] = 6\n",
    "df.loc[df['merchant']==\"'M692898500'\", 'merchant'] = 7\n",
    "df.loc[df['merchant']==\"'M348875670'\", 'merchant'] = 8\n",
    "df.loc[df['merchant']== \"'M151143676'\", 'merchant'] = 9\n",
    "df.loc[df['merchant']==\"'M840466850'\", 'merchant'] = 10\n",
    "df.loc[df['merchant']==\"'M1741626453'\", 'merchant'] = 11\n",
    "df.loc[df['merchant']==\"'M1053599405'\", 'merchant'] = 12\n",
    "df.loc[df['merchant']==\"'M1535107174'\", 'merchant'] = 13\n",
    "df.loc[df['merchant']==\"'M855959430'\",  'merchant'] = 14\n",
    "df.loc[df['merchant']==\"'M349281107'\",  'merchant'] = 15"
   ]
  },
  {
   "cell_type": "code",
   "execution_count": 28,
   "id": "e9cf98f5",
   "metadata": {},
   "outputs": [],
   "source": [
    "df.loc[df['merchant']== \"'M209847108'\",'merchant'] = 16\n",
    "df.loc[df['merchant']==\"'M2122776122'\",  'merchant'] = 17\n",
    "df.loc[df['merchant']==\"'M1873032707'\",  'merchant'] = 18\n",
    "df.loc[df['merchant']==\"'M2011752106'\",  'merchant'] = 19\n",
    "df.loc[df['merchant']==\"'M857378720'\", 'merchant'] = 20\n",
    "df.loc[df['merchant']==\"'M1198415165'\",  'merchant'] = 21\n",
    "df.loc[df['merchant']==\"'M1748431652'\",  'merchant'] = 22\n",
    "df.loc[df['merchant']==\"'M980657600'\",  'merchant'] = 23\n",
    "df.loc[df['merchant']==\"'M1352454843'\", 'merchant'] = 24\n",
    "df.loc[df['merchant']== \"'M117188757'\",  'merchant'] = 25\n",
    "df.loc[df['merchant']==\"'M547558035'\",  'merchant'] = 26\n",
    "df.loc[df['merchant']==\"'M17379832'\",  'merchant'] = 27\n",
    "df.loc[df['merchant']==\"'M1649169323'\", 'merchant'] = 28\n",
    "df.loc[df['merchant']==\"'M1946091778'\",  'merchant'] = 29\n",
    "df.loc[df['merchant']==\"'M97925176'\",   'merchant'] = 30\n",
    "df.loc[df['merchant']==\"'M923029380'\",   'merchant'] = 31"
   ]
  },
  {
   "cell_type": "code",
   "execution_count": 29,
   "id": "97aa449d",
   "metadata": {},
   "outputs": [],
   "source": [
    "df.loc[df['merchant']== \"'M1353266412'\", 'merchant'] = 32\n",
    "df.loc[df['merchant']==\"'M1842530320'\",   'merchant'] = 33\n",
    "df.loc[df['merchant']==\"'M677738360'\",   'merchant'] = 34\n",
    "df.loc[df['merchant']==\"'M1313686961'\",   'merchant'] = 35\n",
    "df.loc[df['merchant']==\"'M732195782'\", 'merchant'] = 36\n",
    "df.loc[df['merchant']==\"'M1600850729'\",   'merchant'] = 37\n",
    "df.loc[df['merchant']==\"'M1872033263'\",   'merchant'] = 38\n",
    "df.loc[df['merchant']==\"'M3697346'\",   'merchant'] = 39\n",
    "df.loc[df['merchant']==\"'M495352832'\", 'merchant'] = 40\n",
    "df.loc[df['merchant']== \"'M1400236507'\",   'merchant'] = 41\n",
    "df.loc[df['merchant']==\"'M1294758098'\",   'merchant'] = 42\n",
    "df.loc[df['merchant']==\"'M1913465890'\",   'merchant'] =43 \n",
    "df.loc[df['merchant']==\"'M45060432'\", 'merchant'] = 44\n",
    "df.loc[df['merchant']==\"'M78078399'\",   'merchant'] = 45\n",
    "df.loc[df['merchant']==\"'M2080407379'\",    'merchant'] = 46\n",
    "df.loc[df['merchant']==\"'M1788569036'\",    'merchant'] = 47"
   ]
  },
  {
   "cell_type": "code",
   "execution_count": 30,
   "id": "aeb26e4a",
   "metadata": {},
   "outputs": [],
   "source": [
    "df.loc[df['merchant']== \"'M1416436880'\", 'merchant'] = 48\n",
    "df.loc[df['merchant']==\"'M933210764'\",    'merchant'] = 49\n",
    "df.loc[df['merchant']==\"'M1726401631'\",   'merchant'] = 50\n"
   ]
  },
  {
   "cell_type": "code",
   "execution_count": 31,
   "id": "c93358db",
   "metadata": {},
   "outputs": [
    {
     "data": {
      "text/plain": [
       "array([], dtype=object)"
      ]
     },
     "execution_count": 31,
     "metadata": {},
     "output_type": "execute_result"
    }
   ],
   "source": [
    "df[df['category'] == 'es_travel']['merchant'].unique()\n"
   ]
  },
  {
   "cell_type": "code",
   "execution_count": 32,
   "id": "4d0b2542",
   "metadata": {},
   "outputs": [],
   "source": [
    "plt.rcParams[\"figure.figsize\"] = (20,10)"
   ]
  },
  {
   "cell_type": "code",
   "execution_count": 33,
   "id": "b5d2cd50",
   "metadata": {},
   "outputs": [
    {
     "data": {
      "text/plain": [
       "<AxesSubplot:xlabel='merchant', ylabel='fraud'>"
      ]
     },
     "execution_count": 33,
     "metadata": {},
     "output_type": "execute_result"
    },
    {
     "data": {
      "image/png": "[encoded data removed]",
      "text/plain": [
       "<Figure size 1440x720 with 1 Axes>"
      ]
     },
     "metadata": {
      "needs_background": "light"
     },
     "output_type": "display_data"
    }
   ],
   "source": [
    "sns.barplot(x='merchant',y='fraud',data=df)"
   ]
  },
  {
   "cell_type": "code",
   "execution_count": null,
   "id": "b957b3a2",
   "metadata": {},
   "outputs": [],
   "source": []
  },
  {
   "cell_type": "code",
   "execution_count": 34,
   "id": "8d458da7",
   "metadata": {},
   "outputs": [
    {
     "data": {
      "text/plain": [
       "array([\"'28007'\"], dtype=object)"
      ]
     },
     "execution_count": 34,
     "metadata": {},
     "output_type": "execute_result"
    }
   ],
   "source": [
    "df['zipMerchant'].unique()"
   ]
  },
  {
   "cell_type": "code",
   "execution_count": 35,
   "id": "d2e88939",
   "metadata": {},
   "outputs": [
    {
     "data": {
      "text/plain": [
       "array([\"'es_transportation'\", \"'es_health'\", \"'es_otherservices'\",\n",
       "       \"'es_food'\", \"'es_hotelservices'\", \"'es_barsandrestaurants'\",\n",
       "       \"'es_tech'\", \"'es_sportsandtoys'\", \"'es_wellnessandbeauty'\",\n",
       "       \"'es_hyper'\", \"'es_fashion'\", \"'es_home'\", \"'es_contents'\",\n",
       "       \"'es_travel'\", \"'es_leisure'\"], dtype=object)"
      ]
     },
     "execution_count": 35,
     "metadata": {},
     "output_type": "execute_result"
    }
   ],
   "source": [
    "df['category'].unique()"
   ]
  },
  {
   "cell_type": "code",
   "execution_count": 36,
   "id": "77f95329",
   "metadata": {},
   "outputs": [],
   "source": [
    "df.loc[df['category']==\"'es_transportation'\", 'category'] = 0\n",
    "df.loc[df['category']==\"'es_health'\", 'category'] = 1\n",
    "df.loc[df['category']==\"'es_otherservices'\", 'category'] = 2\n",
    "df.loc[df['category']==\"'es_food'\", 'category'] = 3\n",
    "df.loc[df['category']==\"'es_hotelservices'\", 'category'] = 4\n",
    "df.loc[df['category']==\"'es_barsandrestaurants'\", 'category'] = 5\n",
    "df.loc[df['category']==\"'es_tech'\", 'category'] = 6\n",
    "df.loc[df['category']==\"'es_sportsandtoys'\", 'category'] = 7\n",
    "df.loc[df['category']==\"'es_wellnessandbeauty'\", 'category'] = 8\n",
    "df.loc[df['category']== \"'es_hyper'\", 'category'] = 9\n",
    "df.loc[df['category']==\"'es_fashion'\", 'category'] = 10\n",
    "df.loc[df['category']==\"'es_home'\", 'category'] = 11\n",
    "df.loc[df['category']==\"'es_contents'\", 'category'] = 12\n",
    "df.loc[df['category']==\"'es_travel'\", 'category'] = 13\n",
    "df.loc[df['category']==\"'es_leisure'\",  'category'] = 14"
   ]
  },
  {
   "cell_type": "code",
   "execution_count": 37,
   "id": "fa51af99",
   "metadata": {},
   "outputs": [
    {
     "data": {
      "text/plain": [
       "array([  4.55,  39.68,  26.89, ..., 249.18, 224.81, 190.31])"
      ]
     },
     "execution_count": 37,
     "metadata": {},
     "output_type": "execute_result"
    }
   ],
   "source": [
    "df['amount'].unique()"
   ]
  },
  {
   "cell_type": "code",
   "execution_count": 38,
   "id": "5b99397e",
   "metadata": {},
   "outputs": [
    {
     "name": "stdout",
     "output_type": "stream",
     "text": [
      "<class 'pandas.core.frame.DataFrame'>\n",
      "RangeIndex: 594643 entries, 0 to 594642\n",
      "Data columns (total 10 columns):\n",
      " #   Column       Non-Null Count   Dtype  \n",
      "---  ------       --------------   -----  \n",
      " 0   step         594643 non-null  int64  \n",
      " 1   customer     594643 non-null  object \n",
      " 2   age          594643 non-null  object \n",
      " 3   gender       594643 non-null  object \n",
      " 4   zipcodeOri   594643 non-null  object \n",
      " 5   merchant     594643 non-null  object \n",
      " 6   zipMerchant  594643 non-null  object \n",
      " 7   category     594643 non-null  object \n",
      " 8   amount       594643 non-null  float64\n",
      " 9   fraud        594643 non-null  int64  \n",
      "dtypes: float64(1), int64(2), object(7)\n",
      "memory usage: 45.4+ MB\n"
     ]
    }
   ],
   "source": [
    "df.info()"
   ]
  },
  {
   "cell_type": "code",
   "execution_count": 39,
   "id": "7e8c858d",
   "metadata": {},
   "outputs": [],
   "source": [
    "from collections import Counter"
   ]
  },
  {
   "cell_type": "code",
   "execution_count": 40,
   "id": "070eb399-d779-4773-bf0c-a22c86ee9fb2",
   "metadata": {},
   "outputs": [
    {
     "name": "stdout",
     "output_type": "stream",
     "text": [
      "Classes and number of values in trainset Counter({0: 587443, 1: 7200})\n"
     ]
    }
   ],
   "source": [
    "print('Classes and number of values in trainset',Counter(df['fraud']))"
   ]
  },
  {
   "cell_type": "code",
   "execution_count": 41,
   "id": "09996eb0-8d4d-473f-bd2e-b9e4703b80f0",
   "metadata": {},
   "outputs": [],
   "source": [
    "import seaborn as sns"
   ]
  },
  {
   "cell_type": "code",
   "execution_count": 42,
   "id": "b92f4df7-6c14-426c-a1e8-c16a7d94ecb4",
   "metadata": {},
   "outputs": [
    {
     "data": {
      "text/plain": [
       "<AxesSubplot:>"
      ]
     },
     "execution_count": 42,
     "metadata": {},
     "output_type": "execute_result"
    },
    {
     "data": {
      "image/png": "[encoded data removed]",
      "text/plain": [
       "<Figure size 864x576 with 2 Axes>"
      ]
     },
     "metadata": {
      "needs_background": "light"
     },
     "output_type": "display_data"
    }
   ],
   "source": [
    "plt.figure(figsize=(12,8))\n",
    "sns.heatmap(df.corr(), cmap='coolwarm')"
   ]
  },
  {
   "cell_type": "code",
   "execution_count": 43,
   "id": "253b78fb-d1dd-467b-b9f2-e4faf1886acd",
   "metadata": {},
   "outputs": [
    {
     "data": {
      "text/html": [
       "<div>\n",
       "<style scoped>\n",
       "    .dataframe tbody tr th:only-of-type {\n",
       "        vertical-align: middle;\n",
       "    }\n",
       "\n",
       "    .dataframe tbody tr th {\n",
       "        vertical-align: top;\n",
       "    }\n",
       "\n",
       "    .dataframe thead th {\n",
       "        text-align: right;\n",
       "    }\n",
       "</style>\n",
       "<table border=\"1\" class=\"dataframe\">\n",
       "  <thead>\n",
       "    <tr style=\"text-align: right;\">\n",
       "      <th></th>\n",
       "      <th>step</th>\n",
       "      <th>customer</th>\n",
       "      <th>age</th>\n",
       "      <th>gender</th>\n",
       "      <th>zipcodeOri</th>\n",
       "      <th>merchant</th>\n",
       "      <th>zipMerchant</th>\n",
       "      <th>category</th>\n",
       "      <th>amount</th>\n",
       "      <th>fraud</th>\n",
       "    </tr>\n",
       "  </thead>\n",
       "  <tbody>\n",
       "    <tr>\n",
       "      <th>0</th>\n",
       "      <td>0</td>\n",
       "      <td>'C1093826151'</td>\n",
       "      <td>4</td>\n",
       "      <td>2</td>\n",
       "      <td>0</td>\n",
       "      <td>0</td>\n",
       "      <td>'28007'</td>\n",
       "      <td>0</td>\n",
       "      <td>4.55</td>\n",
       "      <td>0</td>\n",
       "    </tr>\n",
       "    <tr>\n",
       "      <th>1</th>\n",
       "      <td>0</td>\n",
       "      <td>'C352968107'</td>\n",
       "      <td>2</td>\n",
       "      <td>2</td>\n",
       "      <td>0</td>\n",
       "      <td>0</td>\n",
       "      <td>'28007'</td>\n",
       "      <td>0</td>\n",
       "      <td>39.68</td>\n",
       "      <td>0</td>\n",
       "    </tr>\n",
       "    <tr>\n",
       "      <th>2</th>\n",
       "      <td>0</td>\n",
       "      <td>'C2054744914'</td>\n",
       "      <td>4</td>\n",
       "      <td>1</td>\n",
       "      <td>0</td>\n",
       "      <td>1</td>\n",
       "      <td>'28007'</td>\n",
       "      <td>0</td>\n",
       "      <td>26.89</td>\n",
       "      <td>0</td>\n",
       "    </tr>\n",
       "    <tr>\n",
       "      <th>3</th>\n",
       "      <td>0</td>\n",
       "      <td>'C1760612790'</td>\n",
       "      <td>3</td>\n",
       "      <td>2</td>\n",
       "      <td>0</td>\n",
       "      <td>0</td>\n",
       "      <td>'28007'</td>\n",
       "      <td>0</td>\n",
       "      <td>17.25</td>\n",
       "      <td>0</td>\n",
       "    </tr>\n",
       "    <tr>\n",
       "      <th>4</th>\n",
       "      <td>0</td>\n",
       "      <td>'C757503768'</td>\n",
       "      <td>5</td>\n",
       "      <td>2</td>\n",
       "      <td>0</td>\n",
       "      <td>0</td>\n",
       "      <td>'28007'</td>\n",
       "      <td>0</td>\n",
       "      <td>35.72</td>\n",
       "      <td>0</td>\n",
       "    </tr>\n",
       "    <tr>\n",
       "      <th>...</th>\n",
       "      <td>...</td>\n",
       "      <td>...</td>\n",
       "      <td>...</td>\n",
       "      <td>...</td>\n",
       "      <td>...</td>\n",
       "      <td>...</td>\n",
       "      <td>...</td>\n",
       "      <td>...</td>\n",
       "      <td>...</td>\n",
       "      <td>...</td>\n",
       "    </tr>\n",
       "    <tr>\n",
       "      <th>594638</th>\n",
       "      <td>179</td>\n",
       "      <td>'C1753498738'</td>\n",
       "      <td>3</td>\n",
       "      <td>1</td>\n",
       "      <td>0</td>\n",
       "      <td>1</td>\n",
       "      <td>'28007'</td>\n",
       "      <td>0</td>\n",
       "      <td>20.53</td>\n",
       "      <td>0</td>\n",
       "    </tr>\n",
       "    <tr>\n",
       "      <th>594639</th>\n",
       "      <td>179</td>\n",
       "      <td>'C650108285'</td>\n",
       "      <td>4</td>\n",
       "      <td>1</td>\n",
       "      <td>0</td>\n",
       "      <td>1</td>\n",
       "      <td>'28007'</td>\n",
       "      <td>0</td>\n",
       "      <td>50.73</td>\n",
       "      <td>0</td>\n",
       "    </tr>\n",
       "    <tr>\n",
       "      <th>594640</th>\n",
       "      <td>179</td>\n",
       "      <td>'C123623130'</td>\n",
       "      <td>2</td>\n",
       "      <td>1</td>\n",
       "      <td>0</td>\n",
       "      <td>15</td>\n",
       "      <td>'28007'</td>\n",
       "      <td>10</td>\n",
       "      <td>22.44</td>\n",
       "      <td>0</td>\n",
       "    </tr>\n",
       "    <tr>\n",
       "      <th>594641</th>\n",
       "      <td>179</td>\n",
       "      <td>'C1499363341'</td>\n",
       "      <td>5</td>\n",
       "      <td>2</td>\n",
       "      <td>0</td>\n",
       "      <td>1</td>\n",
       "      <td>'28007'</td>\n",
       "      <td>0</td>\n",
       "      <td>14.46</td>\n",
       "      <td>0</td>\n",
       "    </tr>\n",
       "    <tr>\n",
       "      <th>594642</th>\n",
       "      <td>179</td>\n",
       "      <td>'C616528518'</td>\n",
       "      <td>4</td>\n",
       "      <td>1</td>\n",
       "      <td>0</td>\n",
       "      <td>1</td>\n",
       "      <td>'28007'</td>\n",
       "      <td>0</td>\n",
       "      <td>26.93</td>\n",
       "      <td>0</td>\n",
       "    </tr>\n",
       "  </tbody>\n",
       "</table>\n",
       "<p>594643 rows × 10 columns</p>\n",
       "</div>"
      ],
      "text/plain": [
       "        step       customer age gender zipcodeOri merchant zipMerchant  \\\n",
       "0          0  'C1093826151'   4      2          0        0     '28007'   \n",
       "1          0   'C352968107'   2      2          0        0     '28007'   \n",
       "2          0  'C2054744914'   4      1          0        1     '28007'   \n",
       "3          0  'C1760612790'   3      2          0        0     '28007'   \n",
       "4          0   'C757503768'   5      2          0        0     '28007'   \n",
       "...      ...            ...  ..    ...        ...      ...         ...   \n",
       "594638   179  'C1753498738'   3      1          0        1     '28007'   \n",
       "594639   179   'C650108285'   4      1          0        1     '28007'   \n",
       "594640   179   'C123623130'   2      1          0       15     '28007'   \n",
       "594641   179  'C1499363341'   5      2          0        1     '28007'   \n",
       "594642   179   'C616528518'   4      1          0        1     '28007'   \n",
       "\n",
       "       category  amount  fraud  \n",
       "0             0    4.55      0  \n",
       "1             0   39.68      0  \n",
       "2             0   26.89      0  \n",
       "3             0   17.25      0  \n",
       "4             0   35.72      0  \n",
       "...         ...     ...    ...  \n",
       "594638        0   20.53      0  \n",
       "594639        0   50.73      0  \n",
       "594640       10   22.44      0  \n",
       "594641        0   14.46      0  \n",
       "594642        0   26.93      0  \n",
       "\n",
       "[594643 rows x 10 columns]"
      ]
     },
     "execution_count": 43,
     "metadata": {},
     "output_type": "execute_result"
    }
   ],
   "source": [
    "df"
   ]
  },
  {
   "cell_type": "code",
   "execution_count": 44,
   "id": "feadfa24-6c99-4b3f-8ef8-51c5a8b0c57a",
   "metadata": {},
   "outputs": [
    {
     "data": {
      "text/plain": [
       "array([0, 1], dtype=int64)"
      ]
     },
     "execution_count": 44,
     "metadata": {},
     "output_type": "execute_result"
    }
   ],
   "source": [
    "df['fraud'].unique()"
   ]
  },
  {
   "cell_type": "code",
   "execution_count": 45,
   "id": "92b1f919-2968-4154-893d-a518472d4d3e",
   "metadata": {},
   "outputs": [],
   "source": [
    "y = df['fraud']\n"
   ]
  },
  {
   "cell_type": "code",
   "execution_count": 46,
   "id": "88341aa8-a6db-4389-9227-a5a15d8d7aad",
   "metadata": {},
   "outputs": [
    {
     "data": {
      "text/html": [
       "<div>\n",
       "<style scoped>\n",
       "    .dataframe tbody tr th:only-of-type {\n",
       "        vertical-align: middle;\n",
       "    }\n",
       "\n",
       "    .dataframe tbody tr th {\n",
       "        vertical-align: top;\n",
       "    }\n",
       "\n",
       "    .dataframe thead th {\n",
       "        text-align: right;\n",
       "    }\n",
       "</style>\n",
       "<table border=\"1\" class=\"dataframe\">\n",
       "  <thead>\n",
       "    <tr style=\"text-align: right;\">\n",
       "      <th></th>\n",
       "      <th>step</th>\n",
       "      <th>customer</th>\n",
       "      <th>age</th>\n",
       "      <th>gender</th>\n",
       "      <th>zipcodeOri</th>\n",
       "      <th>merchant</th>\n",
       "      <th>zipMerchant</th>\n",
       "      <th>category</th>\n",
       "      <th>amount</th>\n",
       "      <th>fraud</th>\n",
       "    </tr>\n",
       "  </thead>\n",
       "  <tbody>\n",
       "    <tr>\n",
       "      <th>0</th>\n",
       "      <td>0</td>\n",
       "      <td>'C1093826151'</td>\n",
       "      <td>4</td>\n",
       "      <td>2</td>\n",
       "      <td>0</td>\n",
       "      <td>0</td>\n",
       "      <td>'28007'</td>\n",
       "      <td>0</td>\n",
       "      <td>4.55</td>\n",
       "      <td>0</td>\n",
       "    </tr>\n",
       "    <tr>\n",
       "      <th>1</th>\n",
       "      <td>0</td>\n",
       "      <td>'C352968107'</td>\n",
       "      <td>2</td>\n",
       "      <td>2</td>\n",
       "      <td>0</td>\n",
       "      <td>0</td>\n",
       "      <td>'28007'</td>\n",
       "      <td>0</td>\n",
       "      <td>39.68</td>\n",
       "      <td>0</td>\n",
       "    </tr>\n",
       "    <tr>\n",
       "      <th>2</th>\n",
       "      <td>0</td>\n",
       "      <td>'C2054744914'</td>\n",
       "      <td>4</td>\n",
       "      <td>1</td>\n",
       "      <td>0</td>\n",
       "      <td>1</td>\n",
       "      <td>'28007'</td>\n",
       "      <td>0</td>\n",
       "      <td>26.89</td>\n",
       "      <td>0</td>\n",
       "    </tr>\n",
       "    <tr>\n",
       "      <th>3</th>\n",
       "      <td>0</td>\n",
       "      <td>'C1760612790'</td>\n",
       "      <td>3</td>\n",
       "      <td>2</td>\n",
       "      <td>0</td>\n",
       "      <td>0</td>\n",
       "      <td>'28007'</td>\n",
       "      <td>0</td>\n",
       "      <td>17.25</td>\n",
       "      <td>0</td>\n",
       "    </tr>\n",
       "    <tr>\n",
       "      <th>4</th>\n",
       "      <td>0</td>\n",
       "      <td>'C757503768'</td>\n",
       "      <td>5</td>\n",
       "      <td>2</td>\n",
       "      <td>0</td>\n",
       "      <td>0</td>\n",
       "      <td>'28007'</td>\n",
       "      <td>0</td>\n",
       "      <td>35.72</td>\n",
       "      <td>0</td>\n",
       "    </tr>\n",
       "    <tr>\n",
       "      <th>...</th>\n",
       "      <td>...</td>\n",
       "      <td>...</td>\n",
       "      <td>...</td>\n",
       "      <td>...</td>\n",
       "      <td>...</td>\n",
       "      <td>...</td>\n",
       "      <td>...</td>\n",
       "      <td>...</td>\n",
       "      <td>...</td>\n",
       "      <td>...</td>\n",
       "    </tr>\n",
       "    <tr>\n",
       "      <th>594638</th>\n",
       "      <td>179</td>\n",
       "      <td>'C1753498738'</td>\n",
       "      <td>3</td>\n",
       "      <td>1</td>\n",
       "      <td>0</td>\n",
       "      <td>1</td>\n",
       "      <td>'28007'</td>\n",
       "      <td>0</td>\n",
       "      <td>20.53</td>\n",
       "      <td>0</td>\n",
       "    </tr>\n",
       "    <tr>\n",
       "      <th>594639</th>\n",
       "      <td>179</td>\n",
       "      <td>'C650108285'</td>\n",
       "      <td>4</td>\n",
       "      <td>1</td>\n",
       "      <td>0</td>\n",
       "      <td>1</td>\n",
       "      <td>'28007'</td>\n",
       "      <td>0</td>\n",
       "      <td>50.73</td>\n",
       "      <td>0</td>\n",
       "    </tr>\n",
       "    <tr>\n",
       "      <th>594640</th>\n",
       "      <td>179</td>\n",
       "      <td>'C123623130'</td>\n",
       "      <td>2</td>\n",
       "      <td>1</td>\n",
       "      <td>0</td>\n",
       "      <td>15</td>\n",
       "      <td>'28007'</td>\n",
       "      <td>10</td>\n",
       "      <td>22.44</td>\n",
       "      <td>0</td>\n",
       "    </tr>\n",
       "    <tr>\n",
       "      <th>594641</th>\n",
       "      <td>179</td>\n",
       "      <td>'C1499363341'</td>\n",
       "      <td>5</td>\n",
       "      <td>2</td>\n",
       "      <td>0</td>\n",
       "      <td>1</td>\n",
       "      <td>'28007'</td>\n",
       "      <td>0</td>\n",
       "      <td>14.46</td>\n",
       "      <td>0</td>\n",
       "    </tr>\n",
       "    <tr>\n",
       "      <th>594642</th>\n",
       "      <td>179</td>\n",
       "      <td>'C616528518'</td>\n",
       "      <td>4</td>\n",
       "      <td>1</td>\n",
       "      <td>0</td>\n",
       "      <td>1</td>\n",
       "      <td>'28007'</td>\n",
       "      <td>0</td>\n",
       "      <td>26.93</td>\n",
       "      <td>0</td>\n",
       "    </tr>\n",
       "  </tbody>\n",
       "</table>\n",
       "<p>594643 rows × 10 columns</p>\n",
       "</div>"
      ],
      "text/plain": [
       "        step       customer age gender zipcodeOri merchant zipMerchant  \\\n",
       "0          0  'C1093826151'   4      2          0        0     '28007'   \n",
       "1          0   'C352968107'   2      2          0        0     '28007'   \n",
       "2          0  'C2054744914'   4      1          0        1     '28007'   \n",
       "3          0  'C1760612790'   3      2          0        0     '28007'   \n",
       "4          0   'C757503768'   5      2          0        0     '28007'   \n",
       "...      ...            ...  ..    ...        ...      ...         ...   \n",
       "594638   179  'C1753498738'   3      1          0        1     '28007'   \n",
       "594639   179   'C650108285'   4      1          0        1     '28007'   \n",
       "594640   179   'C123623130'   2      1          0       15     '28007'   \n",
       "594641   179  'C1499363341'   5      2          0        1     '28007'   \n",
       "594642   179   'C616528518'   4      1          0        1     '28007'   \n",
       "\n",
       "       category  amount  fraud  \n",
       "0             0    4.55      0  \n",
       "1             0   39.68      0  \n",
       "2             0   26.89      0  \n",
       "3             0   17.25      0  \n",
       "4             0   35.72      0  \n",
       "...         ...     ...    ...  \n",
       "594638        0   20.53      0  \n",
       "594639        0   50.73      0  \n",
       "594640       10   22.44      0  \n",
       "594641        0   14.46      0  \n",
       "594642        0   26.93      0  \n",
       "\n",
       "[594643 rows x 10 columns]"
      ]
     },
     "execution_count": 46,
     "metadata": {},
     "output_type": "execute_result"
    }
   ],
   "source": [
    "df"
   ]
  },
  {
   "cell_type": "code",
   "execution_count": 47,
   "id": "b0327a3a",
   "metadata": {},
   "outputs": [
    {
     "name": "stdout",
     "output_type": "stream",
     "text": [
      "Classes and number of values in trainset after SMOTE: Counter({0: 587443, 1: 7200})\n"
     ]
    }
   ],
   "source": [
    "print('Classes and number of values in trainset after SMOTE:',Counter(y))"
   ]
  },
  {
   "cell_type": "code",
   "execution_count": 48,
   "id": "ecb31f69",
   "metadata": {},
   "outputs": [],
   "source": [
    "X = df[['age','gender','zipcodeOri','merchant','category','amount']]"
   ]
  },
  {
   "cell_type": "code",
   "execution_count": 49,
   "id": "8e2c8b68",
   "metadata": {},
   "outputs": [],
   "source": [
    "#conda install -c conda-forge imbalanced-learn"
   ]
  },
  {
   "cell_type": "code",
   "execution_count": 50,
   "id": "1eb42901-fbc1-4110-9c26-6e7d47b611fe",
   "metadata": {},
   "outputs": [],
   "source": [
    "from imblearn.over_sampling import SMOTE\n",
    "oversample = SMOTE()"
   ]
  },
  {
   "cell_type": "code",
   "execution_count": 51,
   "id": "7c6c1c65-5afc-4786-8a3d-424bbffaa439",
   "metadata": {},
   "outputs": [],
   "source": [
    "X,y = oversample.fit_resample(X,y)\n"
   ]
  },
  {
   "cell_type": "code",
   "execution_count": 52,
   "id": "759751e3-e34a-463e-9fd4-d1732f41d8c8",
   "metadata": {},
   "outputs": [
    {
     "name": "stdout",
     "output_type": "stream",
     "text": [
      "Classes and number of values in trainset after SMOTE: Counter({0: 587443, 1: 587443})\n"
     ]
    }
   ],
   "source": [
    " print('Classes and number of values in trainset after SMOTE:',Counter(y))"
   ]
  },
  {
   "cell_type": "code",
   "execution_count": 53,
   "id": "1b8f4980-45f7-4bed-a2bc-cf5792ae61ff",
   "metadata": {},
   "outputs": [],
   "source": [
    "from sklearn.model_selection import train_test_split"
   ]
  },
  {
   "cell_type": "code",
   "execution_count": 54,
   "id": "227d0ca1-0d99-4b3e-b6d4-f57f22bde446",
   "metadata": {},
   "outputs": [],
   "source": [
    "X_train, X_test, y_train, y_test = train_test_split(X, y, test_size = 0.3, random_state=0)"
   ]
  },
  {
   "cell_type": "code",
   "execution_count": 55,
   "id": "dfdaff3d",
   "metadata": {},
   "outputs": [
    {
     "data": {
      "text/plain": [
       "(822420, 6)"
      ]
     },
     "execution_count": 55,
     "metadata": {},
     "output_type": "execute_result"
    }
   ],
   "source": [
    " X_train.shape"
   ]
  },
  {
   "cell_type": "code",
   "execution_count": 56,
   "id": "85b78224-7f3b-438c-a999-171ed6568647",
   "metadata": {},
   "outputs": [],
   "source": [
    "from sklearn.ensemble import RandomForestClassifier\n",
    "from sklearn.metrics import confusion_matrix, classification_report, accuracy_score"
   ]
  },
  {
   "cell_type": "code",
   "execution_count": 57,
   "id": "9a893e2b-9918-4cf7-82e2-0e05e68c2c16",
   "metadata": {},
   "outputs": [
    {
     "data": {
      "text/html": [
       "<style>#sk-container-id-1 {color: black;background-color: white;}#sk-container-id-1 pre{padding: 0;}#sk-container-id-1 div.sk-toggleable {background-color: white;}#sk-container-id-1 label.sk-toggleable__label {cursor: pointer;display: block;width: 100%;margin-bottom: 0;padding: 0.3em;box-sizing: border-box;text-align: center;}#sk-container-id-1 label.sk-toggleable__label-arrow:before {content: \"▸\";float: left;margin-right: 0.25em;color: #696969;}#sk-container-id-1 label.sk-toggleable__label-arrow:hover:before {color: black;}#sk-container-id-1 div.sk-estimator:hover label.sk-toggleable__label-arrow:before {color: black;}#sk-container-id-1 div.sk-toggleable__content {max-height: 0;max-width: 0;overflow: hidden;text-align: left;background-color: #f0f8ff;}#sk-container-id-1 div.sk-toggleable__content pre {margin: 0.2em;color: black;border-radius: 0.25em;background-color: #f0f8ff;}#sk-container-id-1 input.sk-toggleable__control:checked~div.sk-toggleable__content {max-height: 200px;max-width: 100%;overflow: auto;}#sk-container-id-1 input.sk-toggleable__control:checked~label.sk-toggleable__label-arrow:before {content: \"▾\";}#sk-container-id-1 div.sk-estimator input.sk-toggleable__control:checked~label.sk-toggleable__label {background-color: #d4ebff;}#sk-container-id-1 div.sk-label input.sk-toggleable__control:checked~label.sk-toggleable__label {background-color: #d4ebff;}#sk-container-id-1 input.sk-hidden--visually {border: 0;clip: rect(1px 1px 1px 1px);clip: rect(1px, 1px, 1px, 1px);height: 1px;margin: -1px;overflow: hidden;padding: 0;position: absolute;width: 1px;}#sk-container-id-1 div.sk-estimator {font-family: monospace;background-color: #f0f8ff;border: 1px dotted black;border-radius: 0.25em;box-sizing: border-box;margin-bottom: 0.5em;}#sk-container-id-1 div.sk-estimator:hover {background-color: #d4ebff;}#sk-container-id-1 div.sk-parallel-item::after {content: \"\";width: 100%;border-bottom: 1px solid gray;flex-grow: 1;}#sk-container-id-1 div.sk-label:hover label.sk-toggleable__label {background-color: #d4ebff;}#sk-container-id-1 div.sk-serial::before {content: \"\";position: absolute;border-left: 1px solid gray;box-sizing: border-box;top: 0;bottom: 0;left: 50%;z-index: 0;}#sk-container-id-1 div.sk-serial {display: flex;flex-direction: column;align-items: center;background-color: white;padding-right: 0.2em;padding-left: 0.2em;position: relative;}#sk-container-id-1 div.sk-item {position: relative;z-index: 1;}#sk-container-id-1 div.sk-parallel {display: flex;align-items: stretch;justify-content: center;background-color: white;position: relative;}#sk-container-id-1 div.sk-item::before, #sk-container-id-1 div.sk-parallel-item::before {content: \"\";position: absolute;border-left: 1px solid gray;box-sizing: border-box;top: 0;bottom: 0;left: 50%;z-index: -1;}#sk-container-id-1 div.sk-parallel-item {display: flex;flex-direction: column;z-index: 1;position: relative;background-color: white;}#sk-container-id-1 div.sk-parallel-item:first-child::after {align-self: flex-end;width: 50%;}#sk-container-id-1 div.sk-parallel-item:last-child::after {align-self: flex-start;width: 50%;}#sk-container-id-1 div.sk-parallel-item:only-child::after {width: 0;}#sk-container-id-1 div.sk-dashed-wrapped {border: 1px dashed gray;margin: 0 0.4em 0.5em 0.4em;box-sizing: border-box;padding-bottom: 0.4em;background-color: white;}#sk-container-id-1 div.sk-label label {font-family: monospace;font-weight: bold;display: inline-block;line-height: 1.2em;}#sk-container-id-1 div.sk-label-container {text-align: center;}#sk-container-id-1 div.sk-container {/* jupyter's `normalize.less` sets `[hidden] { display: none; }` but bootstrap.min.css set `[hidden] { display: none !important; }` so we also need the `!important` here to be able to override the default hidden behavior on the sphinx rendered scikit-learn.org. See: https://github.com/scikit-learn/scikit-learn/issues/21755 */display: inline-block !important;position: relative;}#sk-container-id-1 div.sk-text-repr-fallback {display: none;}</style><div id=\"sk-container-id-1\" class=\"sk-top-container\"><div class=\"sk-text-repr-fallback\"><pre>RandomForestClassifier(n_estimators=60, random_state=23)</pre><b>In a Jupyter environment, please rerun this cell to show the HTML representation or trust the notebook. <br />On GitHub, the HTML representation is unable to render, please try loading this page with nbviewer.org.</b></div><div class=\"sk-container\" hidden><div class=\"sk-item\"><div class=\"sk-estimator sk-toggleable\"><input class=\"sk-toggleable__control sk-hidden--visually\" id=\"sk-estimator-id-1\" type=\"checkbox\" checked><label for=\"sk-estimator-id-1\" class=\"sk-toggleable__label sk-toggleable__label-arrow\">RandomForestClassifier</label><div class=\"sk-toggleable__content\"><pre>RandomForestClassifier(n_estimators=60, random_state=23)</pre></div></div></div></div></div>"
      ],
      "text/plain": [
       "RandomForestClassifier(n_estimators=60, random_state=23)"
      ]
     },
     "execution_count": 57,
     "metadata": {},
     "output_type": "execute_result"
    }
   ],
   "source": [
    "rf = RandomForestClassifier(n_estimators=60, random_state=23)\n",
    "rf.fit(X_train, y_train)\n"
   ]
  },
  {
   "cell_type": "code",
   "execution_count": 58,
   "id": "2b546534",
   "metadata": {},
   "outputs": [
    {
     "data": {
      "text/plain": [
       "0.9999671700590939"
      ]
     },
     "execution_count": 58,
     "metadata": {},
     "output_type": "execute_result"
    }
   ],
   "source": [
    "rf.score(X_train,y_train)"
   ]
  },
  {
   "cell_type": "code",
   "execution_count": 59,
   "id": "463e8647",
   "metadata": {},
   "outputs": [
    {
     "data": {
      "text/plain": [
       "0.9965670447646015"
      ]
     },
     "execution_count": 59,
     "metadata": {},
     "output_type": "execute_result"
    }
   ],
   "source": [
    "from sklearn.metrics import accuracy_score\n",
    "y_pred = rf.predict(X_test )\n",
    "accuracy_score(y_pred,y_test) "
   ]
  },
  {
   "cell_type": "code",
   "execution_count": 61,
   "id": "585a5b98",
   "metadata": {},
   "outputs": [],
   "source": [
    "import sklearn.metrics"
   ]
  },
  {
   "cell_type": "code",
   "execution_count": 62,
   "id": "556282d2",
   "metadata": {},
   "outputs": [
    {
     "name": "stdout",
     "output_type": "stream",
     "text": [
      "              precision    recall  f1-score   support\n",
      "\n",
      "           0       1.00      1.00      1.00    175793\n",
      "           1       1.00      1.00      1.00    176673\n",
      "\n",
      "    accuracy                           1.00    352466\n",
      "   macro avg       1.00      1.00      1.00    352466\n",
      "weighted avg       1.00      1.00      1.00    352466\n",
      "\n"
     ]
    }
   ],
   "source": [
    "print(sklearn.metrics.classification_report(y_test, y_pred))"
   ]
  },
  {
   "cell_type": "code",
   "execution_count": 63,
   "id": "dd236144",
   "metadata": {},
   "outputs": [
    {
     "data": {
      "text/plain": [
       "array([[175102,    691],\n",
       "       [   519, 176154]], dtype=int64)"
      ]
     },
     "execution_count": 63,
     "metadata": {},
     "output_type": "execute_result"
    }
   ],
   "source": [
    "y_pred = rf.predict(X_test )\n",
    "y_true=y_test\n",
    "\n",
    "\n",
    "from sklearn.metrics import confusion_matrix\n",
    "cm=confusion_matrix(y_true,y_pred)\n",
    "cm"
   ]
  },
  {
   "cell_type": "code",
   "execution_count": 64,
   "id": "a73aea3e",
   "metadata": {},
   "outputs": [
    {
     "data": {
      "image/png": "[encoded data removed]",
      "text/plain": [
       "<Figure size 360x360 with 2 Axes>"
      ]
     },
     "metadata": {
      "needs_background": "light"
     },
     "output_type": "display_data"
    }
   ],
   "source": [
    "import seaborn as sns\n",
    "import matplotlib.pyplot as plt\n",
    "\n",
    "f, ax=plt.subplots(figsize=(5,5))\n",
    "sns.heatmap(cm,annot=True,linewidths=0.5,linecolor=\"red\",fmt=\".0f\",ax=ax)\n",
    "plt.xlabel(\"y_pred\")\n",
    "plt.ylabel(\"y_true\")\n",
    "plt.show()"
   ]
  },
  {
   "cell_type": "code",
   "execution_count": 65,
   "id": "ed5d90d7",
   "metadata": {},
   "outputs": [],
   "source": [
    "import pickle\n",
    "\n",
    "pickle.dump(rf,open('fraud.pkl','wb'))\n",
    "fraud = pickle.load(open('fraud.pkl','rb'))"
   ]
  },
  {
   "cell_type": "code",
   "execution_count": null,
   "id": "222bc0c7",
   "metadata": {},
   "outputs": [],
   "source": []
  }
 ],
 "metadata": {
  "kernelspec": {
   "display_name": "Python 3 (ipykernel)",
   "language": "python",
   "name": "python3"
  },
  "language_info": {
   "codemirror_mode": {
    "name": "ipython",
    "version": 3
   },
   "file_extension": ".py",
   "mimetype": "text/x-python",
   "name": "python",
   "nbconvert_exporter": "python",
   "pygments_lexer": "ipython3",
   "version": "3.9.7"
  }
 },
 "nbformat": 4,
 "nbformat_minor": 5
}
